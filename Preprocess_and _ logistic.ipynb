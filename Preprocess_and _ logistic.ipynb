{
 "cells": [
  {
   "cell_type": "code",
   "execution_count": 1,
   "id": "08f1b49c",
   "metadata": {},
   "outputs": [],
   "source": [
    "import pandas as pd\n",
    "import numpy as np\n",
    "import matplotlib.pyplot as plt \n",
    "import seaborn as sns\n",
    "import warnings\n",
    "warnings.filterwarnings(\"ignore\")"
   ]
  },
  {
   "cell_type": "code",
   "execution_count": 2,
   "id": "c2321968",
   "metadata": {},
   "outputs": [],
   "source": [
    "from sklearn.tree import DecisionTreeClassifier\n",
    "from sklearn.linear_model import LogisticRegression\n",
    "from scipy.stats import zscore\n",
    "\n",
    "\n",
    "from sklearn.model_selection import train_test_split\n",
    "from sklearn.metrics import accuracy_score, classification_report, auc, roc_auc_score, roc_curve, confusion_matrix\n",
    "from sklearn.model_selection import KFold\n",
    "from sklearn.model_selection import cross_val_score, RepeatedKFold\n",
    "from sklearn.preprocessing import StandardScaler\n",
    "from sklearn.pipeline import Pipeline\n"
   ]
  },
  {
   "cell_type": "code",
   "execution_count": 3,
   "id": "614f9a51",
   "metadata": {},
   "outputs": [],
   "source": [
    "from imblearn.over_sampling import RandomOverSampler, SMOTE\n",
    "from imblearn.under_sampling import RandomUnderSampler, RepeatedEditedNearestNeighbours\n",
    "from imblearn.combine import SMOTEENN\n",
    "import optuna as op"
   ]
  },
  {
   "cell_type": "code",
   "execution_count": 4,
   "id": "77168532",
   "metadata": {},
   "outputs": [],
   "source": [
    "df = pd.read_csv(\"bank-full.csv\", sep=\";\")"
   ]
  },
  {
   "cell_type": "code",
   "execution_count": 5,
   "id": "e6d7d27c",
   "metadata": {},
   "outputs": [
    {
     "data": {
      "text/html": [
       "<div>\n",
       "<style scoped>\n",
       "    .dataframe tbody tr th:only-of-type {\n",
       "        vertical-align: middle;\n",
       "    }\n",
       "\n",
       "    .dataframe tbody tr th {\n",
       "        vertical-align: top;\n",
       "    }\n",
       "\n",
       "    .dataframe thead th {\n",
       "        text-align: right;\n",
       "    }\n",
       "</style>\n",
       "<table border=\"1\" class=\"dataframe\">\n",
       "  <thead>\n",
       "    <tr style=\"text-align: right;\">\n",
       "      <th></th>\n",
       "      <th>age</th>\n",
       "      <th>job</th>\n",
       "      <th>marital</th>\n",
       "      <th>education</th>\n",
       "      <th>default</th>\n",
       "      <th>balance</th>\n",
       "      <th>housing</th>\n",
       "      <th>loan</th>\n",
       "      <th>contact</th>\n",
       "      <th>day</th>\n",
       "      <th>month</th>\n",
       "      <th>duration</th>\n",
       "      <th>campaign</th>\n",
       "      <th>pdays</th>\n",
       "      <th>previous</th>\n",
       "      <th>poutcome</th>\n",
       "      <th>y</th>\n",
       "    </tr>\n",
       "  </thead>\n",
       "  <tbody>\n",
       "    <tr>\n",
       "      <th>0</th>\n",
       "      <td>58</td>\n",
       "      <td>management</td>\n",
       "      <td>married</td>\n",
       "      <td>tertiary</td>\n",
       "      <td>no</td>\n",
       "      <td>2143</td>\n",
       "      <td>yes</td>\n",
       "      <td>no</td>\n",
       "      <td>unknown</td>\n",
       "      <td>5</td>\n",
       "      <td>may</td>\n",
       "      <td>261</td>\n",
       "      <td>1</td>\n",
       "      <td>-1</td>\n",
       "      <td>0</td>\n",
       "      <td>unknown</td>\n",
       "      <td>no</td>\n",
       "    </tr>\n",
       "    <tr>\n",
       "      <th>1</th>\n",
       "      <td>44</td>\n",
       "      <td>technician</td>\n",
       "      <td>single</td>\n",
       "      <td>secondary</td>\n",
       "      <td>no</td>\n",
       "      <td>29</td>\n",
       "      <td>yes</td>\n",
       "      <td>no</td>\n",
       "      <td>unknown</td>\n",
       "      <td>5</td>\n",
       "      <td>may</td>\n",
       "      <td>151</td>\n",
       "      <td>1</td>\n",
       "      <td>-1</td>\n",
       "      <td>0</td>\n",
       "      <td>unknown</td>\n",
       "      <td>no</td>\n",
       "    </tr>\n",
       "    <tr>\n",
       "      <th>2</th>\n",
       "      <td>33</td>\n",
       "      <td>entrepreneur</td>\n",
       "      <td>married</td>\n",
       "      <td>secondary</td>\n",
       "      <td>no</td>\n",
       "      <td>2</td>\n",
       "      <td>yes</td>\n",
       "      <td>yes</td>\n",
       "      <td>unknown</td>\n",
       "      <td>5</td>\n",
       "      <td>may</td>\n",
       "      <td>76</td>\n",
       "      <td>1</td>\n",
       "      <td>-1</td>\n",
       "      <td>0</td>\n",
       "      <td>unknown</td>\n",
       "      <td>no</td>\n",
       "    </tr>\n",
       "    <tr>\n",
       "      <th>3</th>\n",
       "      <td>47</td>\n",
       "      <td>blue-collar</td>\n",
       "      <td>married</td>\n",
       "      <td>unknown</td>\n",
       "      <td>no</td>\n",
       "      <td>1506</td>\n",
       "      <td>yes</td>\n",
       "      <td>no</td>\n",
       "      <td>unknown</td>\n",
       "      <td>5</td>\n",
       "      <td>may</td>\n",
       "      <td>92</td>\n",
       "      <td>1</td>\n",
       "      <td>-1</td>\n",
       "      <td>0</td>\n",
       "      <td>unknown</td>\n",
       "      <td>no</td>\n",
       "    </tr>\n",
       "    <tr>\n",
       "      <th>4</th>\n",
       "      <td>33</td>\n",
       "      <td>unknown</td>\n",
       "      <td>single</td>\n",
       "      <td>unknown</td>\n",
       "      <td>no</td>\n",
       "      <td>1</td>\n",
       "      <td>no</td>\n",
       "      <td>no</td>\n",
       "      <td>unknown</td>\n",
       "      <td>5</td>\n",
       "      <td>may</td>\n",
       "      <td>198</td>\n",
       "      <td>1</td>\n",
       "      <td>-1</td>\n",
       "      <td>0</td>\n",
       "      <td>unknown</td>\n",
       "      <td>no</td>\n",
       "    </tr>\n",
       "  </tbody>\n",
       "</table>\n",
       "</div>"
      ],
      "text/plain": [
       "   age           job  marital  education default  balance housing loan  \\\n",
       "0   58    management  married   tertiary      no     2143     yes   no   \n",
       "1   44    technician   single  secondary      no       29     yes   no   \n",
       "2   33  entrepreneur  married  secondary      no        2     yes  yes   \n",
       "3   47   blue-collar  married    unknown      no     1506     yes   no   \n",
       "4   33       unknown   single    unknown      no        1      no   no   \n",
       "\n",
       "   contact  day month  duration  campaign  pdays  previous poutcome   y  \n",
       "0  unknown    5   may       261         1     -1         0  unknown  no  \n",
       "1  unknown    5   may       151         1     -1         0  unknown  no  \n",
       "2  unknown    5   may        76         1     -1         0  unknown  no  \n",
       "3  unknown    5   may        92         1     -1         0  unknown  no  \n",
       "4  unknown    5   may       198         1     -1         0  unknown  no  "
      ]
     },
     "execution_count": 5,
     "metadata": {},
     "output_type": "execute_result"
    }
   ],
   "source": [
    "df.head()"
   ]
  },
  {
   "cell_type": "code",
   "execution_count": 6,
   "id": "0131fc3e",
   "metadata": {},
   "outputs": [
    {
     "data": {
      "text/plain": [
       "(45211, 17)"
      ]
     },
     "execution_count": 6,
     "metadata": {},
     "output_type": "execute_result"
    }
   ],
   "source": [
    "df.shape"
   ]
  },
  {
   "cell_type": "code",
   "execution_count": 7,
   "id": "3fc4df1f",
   "metadata": {},
   "outputs": [
    {
     "data": {
      "text/plain": [
       "no     39922\n",
       "yes     5289\n",
       "Name: y, dtype: int64"
      ]
     },
     "execution_count": 7,
     "metadata": {},
     "output_type": "execute_result"
    }
   ],
   "source": [
    "df[\"y\"].value_counts()"
   ]
  },
  {
   "cell_type": "code",
   "execution_count": 8,
   "id": "10972d4c",
   "metadata": {},
   "outputs": [
    {
     "data": {
      "text/plain": [
       "(12,)"
      ]
     },
     "execution_count": 8,
     "metadata": {},
     "output_type": "execute_result"
    }
   ],
   "source": [
    "df[\"month\"].unique().shape"
   ]
  },
  {
   "cell_type": "code",
   "execution_count": 9,
   "id": "fc7e3d1b",
   "metadata": {},
   "outputs": [],
   "source": [
    "cate = {\n",
    "    \"education\": {\"unknown\":0, \"primary\":1, \"secondary\":2, \"tertiary\":3},\n",
    "    \"month\": {\"mar\": \"Spring\", \"apr\": \"Spring\", \"may\": \"Spring\", \n",
    "              \"jun\": \"Summer\", \"jul\": \"Summer\", \"aug\": \"Summer\",\n",
    "              \"sep\": \"Autumn\", \"oct\": \"Autumn\", \"nov\": \"Autumn\",\n",
    "              \"dec\": \"Winter\", \"jan\": \"Winter\", \"feb\": \"Winter\"},\n",
    "    \"y\": {\"yes\":1, \"no\":0}\n",
    "}\n"
   ]
  },
  {
   "cell_type": "code",
   "execution_count": 10,
   "id": "e5e17dfc",
   "metadata": {},
   "outputs": [],
   "source": [
    "df = df.replace(cate)\n",
    "df = df.replace({\"unknown\": \"AA\"})#for drop first"
   ]
  },
  {
   "cell_type": "code",
   "execution_count": 11,
   "id": "6c7f623f",
   "metadata": {
    "scrolled": true
   },
   "outputs": [
    {
     "data": {
      "text/html": [
       "<div>\n",
       "<style scoped>\n",
       "    .dataframe tbody tr th:only-of-type {\n",
       "        vertical-align: middle;\n",
       "    }\n",
       "\n",
       "    .dataframe tbody tr th {\n",
       "        vertical-align: top;\n",
       "    }\n",
       "\n",
       "    .dataframe thead th {\n",
       "        text-align: right;\n",
       "    }\n",
       "</style>\n",
       "<table border=\"1\" class=\"dataframe\">\n",
       "  <thead>\n",
       "    <tr style=\"text-align: right;\">\n",
       "      <th></th>\n",
       "      <th>age</th>\n",
       "      <th>education</th>\n",
       "      <th>balance</th>\n",
       "      <th>day</th>\n",
       "      <th>duration</th>\n",
       "      <th>campaign</th>\n",
       "      <th>pdays</th>\n",
       "      <th>previous</th>\n",
       "      <th>y</th>\n",
       "    </tr>\n",
       "  </thead>\n",
       "  <tbody>\n",
       "    <tr>\n",
       "      <th>count</th>\n",
       "      <td>45211.000000</td>\n",
       "      <td>45211.000000</td>\n",
       "      <td>45211.000000</td>\n",
       "      <td>45211.000000</td>\n",
       "      <td>45211.000000</td>\n",
       "      <td>45211.000000</td>\n",
       "      <td>45211.000000</td>\n",
       "      <td>45211.000000</td>\n",
       "      <td>45211.000000</td>\n",
       "    </tr>\n",
       "    <tr>\n",
       "      <th>mean</th>\n",
       "      <td>40.936210</td>\n",
       "      <td>2.060516</td>\n",
       "      <td>1362.272058</td>\n",
       "      <td>15.806419</td>\n",
       "      <td>258.163080</td>\n",
       "      <td>2.763841</td>\n",
       "      <td>40.197828</td>\n",
       "      <td>0.580323</td>\n",
       "      <td>0.116985</td>\n",
       "    </tr>\n",
       "    <tr>\n",
       "      <th>std</th>\n",
       "      <td>10.618762</td>\n",
       "      <td>0.778704</td>\n",
       "      <td>3044.765829</td>\n",
       "      <td>8.322476</td>\n",
       "      <td>257.527812</td>\n",
       "      <td>3.098021</td>\n",
       "      <td>100.128746</td>\n",
       "      <td>2.303441</td>\n",
       "      <td>0.321406</td>\n",
       "    </tr>\n",
       "    <tr>\n",
       "      <th>min</th>\n",
       "      <td>18.000000</td>\n",
       "      <td>0.000000</td>\n",
       "      <td>-8019.000000</td>\n",
       "      <td>1.000000</td>\n",
       "      <td>0.000000</td>\n",
       "      <td>1.000000</td>\n",
       "      <td>-1.000000</td>\n",
       "      <td>0.000000</td>\n",
       "      <td>0.000000</td>\n",
       "    </tr>\n",
       "    <tr>\n",
       "      <th>25%</th>\n",
       "      <td>33.000000</td>\n",
       "      <td>2.000000</td>\n",
       "      <td>72.000000</td>\n",
       "      <td>8.000000</td>\n",
       "      <td>103.000000</td>\n",
       "      <td>1.000000</td>\n",
       "      <td>-1.000000</td>\n",
       "      <td>0.000000</td>\n",
       "      <td>0.000000</td>\n",
       "    </tr>\n",
       "    <tr>\n",
       "      <th>50%</th>\n",
       "      <td>39.000000</td>\n",
       "      <td>2.000000</td>\n",
       "      <td>448.000000</td>\n",
       "      <td>16.000000</td>\n",
       "      <td>180.000000</td>\n",
       "      <td>2.000000</td>\n",
       "      <td>-1.000000</td>\n",
       "      <td>0.000000</td>\n",
       "      <td>0.000000</td>\n",
       "    </tr>\n",
       "    <tr>\n",
       "      <th>75%</th>\n",
       "      <td>48.000000</td>\n",
       "      <td>3.000000</td>\n",
       "      <td>1428.000000</td>\n",
       "      <td>21.000000</td>\n",
       "      <td>319.000000</td>\n",
       "      <td>3.000000</td>\n",
       "      <td>-1.000000</td>\n",
       "      <td>0.000000</td>\n",
       "      <td>0.000000</td>\n",
       "    </tr>\n",
       "    <tr>\n",
       "      <th>max</th>\n",
       "      <td>95.000000</td>\n",
       "      <td>3.000000</td>\n",
       "      <td>102127.000000</td>\n",
       "      <td>31.000000</td>\n",
       "      <td>4918.000000</td>\n",
       "      <td>63.000000</td>\n",
       "      <td>871.000000</td>\n",
       "      <td>275.000000</td>\n",
       "      <td>1.000000</td>\n",
       "    </tr>\n",
       "  </tbody>\n",
       "</table>\n",
       "</div>"
      ],
      "text/plain": [
       "                age     education        balance           day      duration  \\\n",
       "count  45211.000000  45211.000000   45211.000000  45211.000000  45211.000000   \n",
       "mean      40.936210      2.060516    1362.272058     15.806419    258.163080   \n",
       "std       10.618762      0.778704    3044.765829      8.322476    257.527812   \n",
       "min       18.000000      0.000000   -8019.000000      1.000000      0.000000   \n",
       "25%       33.000000      2.000000      72.000000      8.000000    103.000000   \n",
       "50%       39.000000      2.000000     448.000000     16.000000    180.000000   \n",
       "75%       48.000000      3.000000    1428.000000     21.000000    319.000000   \n",
       "max       95.000000      3.000000  102127.000000     31.000000   4918.000000   \n",
       "\n",
       "           campaign         pdays      previous             y  \n",
       "count  45211.000000  45211.000000  45211.000000  45211.000000  \n",
       "mean       2.763841     40.197828      0.580323      0.116985  \n",
       "std        3.098021    100.128746      2.303441      0.321406  \n",
       "min        1.000000     -1.000000      0.000000      0.000000  \n",
       "25%        1.000000     -1.000000      0.000000      0.000000  \n",
       "50%        2.000000     -1.000000      0.000000      0.000000  \n",
       "75%        3.000000     -1.000000      0.000000      0.000000  \n",
       "max       63.000000    871.000000    275.000000      1.000000  "
      ]
     },
     "execution_count": 11,
     "metadata": {},
     "output_type": "execute_result"
    }
   ],
   "source": [
    " df.describe()"
   ]
  },
  {
   "cell_type": "code",
   "execution_count": 12,
   "id": "186a2558",
   "metadata": {},
   "outputs": [],
   "source": [
    "df['balance_outliers'] = df['balance']\n",
    "df['balance_outliers']= zscore(df['balance_outliers'])\n",
    "\n",
    "condition1 = (df['balance_outliers']>3) | (df['balance_outliers']<-3 )\n",
    "df2 = df.drop(df[condition1].index, axis = 0, inplace = False)\n",
    "df2 = df2.drop('balance_outliers', axis=1)"
   ]
  },
  {
   "cell_type": "code",
   "execution_count": 13,
   "id": "4bc15c74",
   "metadata": {},
   "outputs": [
    {
     "data": {
      "text/plain": [
       "((44466, 17), (45211, 18))"
      ]
     },
     "execution_count": 13,
     "metadata": {},
     "output_type": "execute_result"
    }
   ],
   "source": [
    "df2.shape, df.shape"
   ]
  },
  {
   "cell_type": "code",
   "execution_count": 14,
   "id": "39ac7a8a",
   "metadata": {},
   "outputs": [
    {
     "data": {
      "text/plain": [
       "745"
      ]
     },
     "execution_count": 14,
     "metadata": {},
     "output_type": "execute_result"
    }
   ],
   "source": [
    "45211 - 44466"
   ]
  },
  {
   "cell_type": "code",
   "execution_count": 15,
   "id": "7bad0d05",
   "metadata": {
    "scrolled": true
   },
   "outputs": [
    {
     "data": {
      "image/png": "[encoded data removed]",
      "text/plain": [
       "<Figure size 640x480 with 1 Axes>"
      ]
     },
     "metadata": {},
     "output_type": "display_data"
    }
   ],
   "source": [
    "sns.boxplot(df['balance'])\n",
    "plt.show()"
   ]
  },
  {
   "cell_type": "code",
   "execution_count": 16,
   "id": "a54a1ab8",
   "metadata": {},
   "outputs": [
    {
     "data": {
      "text/plain": [
       "<AxesSubplot: >"
      ]
     },
     "execution_count": 16,
     "metadata": {},
     "output_type": "execute_result"
    },
    {
     "data": {
      "image/png": "[encoded data removed]",
      "text/plain": [
       "<Figure size 640x480 with 1 Axes>"
      ]
     },
     "metadata": {},
     "output_type": "display_data"
    }
   ],
   "source": [
    "sns.boxplot(df2['balance'])"
   ]
  },
  {
   "cell_type": "code",
   "execution_count": 17,
   "id": "797ac010",
   "metadata": {
    "scrolled": true
   },
   "outputs": [
    {
     "data": {
      "text/html": [
       "<div>\n",
       "<style scoped>\n",
       "    .dataframe tbody tr th:only-of-type {\n",
       "        vertical-align: middle;\n",
       "    }\n",
       "\n",
       "    .dataframe tbody tr th {\n",
       "        vertical-align: top;\n",
       "    }\n",
       "\n",
       "    .dataframe thead th {\n",
       "        text-align: right;\n",
       "    }\n",
       "</style>\n",
       "<table border=\"1\" class=\"dataframe\">\n",
       "  <thead>\n",
       "    <tr style=\"text-align: right;\">\n",
       "      <th></th>\n",
       "      <th>age</th>\n",
       "      <th>education</th>\n",
       "      <th>balance</th>\n",
       "      <th>day</th>\n",
       "      <th>duration</th>\n",
       "      <th>campaign</th>\n",
       "      <th>pdays</th>\n",
       "      <th>previous</th>\n",
       "      <th>y</th>\n",
       "    </tr>\n",
       "  </thead>\n",
       "  <tbody>\n",
       "    <tr>\n",
       "      <th>count</th>\n",
       "      <td>44466.000000</td>\n",
       "      <td>44466.000000</td>\n",
       "      <td>44466.000000</td>\n",
       "      <td>44466.000000</td>\n",
       "      <td>44466.000000</td>\n",
       "      <td>44466.000000</td>\n",
       "      <td>44466.000000</td>\n",
       "      <td>44466.000000</td>\n",
       "      <td>44466.000000</td>\n",
       "    </tr>\n",
       "    <tr>\n",
       "      <th>mean</th>\n",
       "      <td>40.882382</td>\n",
       "      <td>2.056403</td>\n",
       "      <td>1084.544483</td>\n",
       "      <td>15.803558</td>\n",
       "      <td>258.057662</td>\n",
       "      <td>2.765506</td>\n",
       "      <td>40.244614</td>\n",
       "      <td>0.579544</td>\n",
       "      <td>0.116224</td>\n",
       "    </tr>\n",
       "    <tr>\n",
       "      <th>std</th>\n",
       "      <td>10.596139</td>\n",
       "      <td>0.777141</td>\n",
       "      <td>1721.069271</td>\n",
       "      <td>8.328517</td>\n",
       "      <td>257.439656</td>\n",
       "      <td>3.100462</td>\n",
       "      <td>100.268044</td>\n",
       "      <td>2.310143</td>\n",
       "      <td>0.320497</td>\n",
       "    </tr>\n",
       "    <tr>\n",
       "      <th>min</th>\n",
       "      <td>18.000000</td>\n",
       "      <td>0.000000</td>\n",
       "      <td>-6847.000000</td>\n",
       "      <td>1.000000</td>\n",
       "      <td>0.000000</td>\n",
       "      <td>1.000000</td>\n",
       "      <td>-1.000000</td>\n",
       "      <td>0.000000</td>\n",
       "      <td>0.000000</td>\n",
       "    </tr>\n",
       "    <tr>\n",
       "      <th>25%</th>\n",
       "      <td>33.000000</td>\n",
       "      <td>2.000000</td>\n",
       "      <td>68.000000</td>\n",
       "      <td>8.000000</td>\n",
       "      <td>103.000000</td>\n",
       "      <td>1.000000</td>\n",
       "      <td>-1.000000</td>\n",
       "      <td>0.000000</td>\n",
       "      <td>0.000000</td>\n",
       "    </tr>\n",
       "    <tr>\n",
       "      <th>50%</th>\n",
       "      <td>39.000000</td>\n",
       "      <td>2.000000</td>\n",
       "      <td>431.000000</td>\n",
       "      <td>16.000000</td>\n",
       "      <td>180.000000</td>\n",
       "      <td>2.000000</td>\n",
       "      <td>-1.000000</td>\n",
       "      <td>0.000000</td>\n",
       "      <td>0.000000</td>\n",
       "    </tr>\n",
       "    <tr>\n",
       "      <th>75%</th>\n",
       "      <td>48.000000</td>\n",
       "      <td>3.000000</td>\n",
       "      <td>1347.000000</td>\n",
       "      <td>21.000000</td>\n",
       "      <td>319.000000</td>\n",
       "      <td>3.000000</td>\n",
       "      <td>-1.000000</td>\n",
       "      <td>0.000000</td>\n",
       "      <td>0.000000</td>\n",
       "    </tr>\n",
       "    <tr>\n",
       "      <th>max</th>\n",
       "      <td>95.000000</td>\n",
       "      <td>3.000000</td>\n",
       "      <td>10483.000000</td>\n",
       "      <td>31.000000</td>\n",
       "      <td>4918.000000</td>\n",
       "      <td>63.000000</td>\n",
       "      <td>871.000000</td>\n",
       "      <td>275.000000</td>\n",
       "      <td>1.000000</td>\n",
       "    </tr>\n",
       "  </tbody>\n",
       "</table>\n",
       "</div>"
      ],
      "text/plain": [
       "                age     education       balance           day      duration  \\\n",
       "count  44466.000000  44466.000000  44466.000000  44466.000000  44466.000000   \n",
       "mean      40.882382      2.056403   1084.544483     15.803558    258.057662   \n",
       "std       10.596139      0.777141   1721.069271      8.328517    257.439656   \n",
       "min       18.000000      0.000000  -6847.000000      1.000000      0.000000   \n",
       "25%       33.000000      2.000000     68.000000      8.000000    103.000000   \n",
       "50%       39.000000      2.000000    431.000000     16.000000    180.000000   \n",
       "75%       48.000000      3.000000   1347.000000     21.000000    319.000000   \n",
       "max       95.000000      3.000000  10483.000000     31.000000   4918.000000   \n",
       "\n",
       "           campaign         pdays      previous             y  \n",
       "count  44466.000000  44466.000000  44466.000000  44466.000000  \n",
       "mean       2.765506     40.244614      0.579544      0.116224  \n",
       "std        3.100462    100.268044      2.310143      0.320497  \n",
       "min        1.000000     -1.000000      0.000000      0.000000  \n",
       "25%        1.000000     -1.000000      0.000000      0.000000  \n",
       "50%        2.000000     -1.000000      0.000000      0.000000  \n",
       "75%        3.000000     -1.000000      0.000000      0.000000  \n",
       "max       63.000000    871.000000    275.000000      1.000000  "
      ]
     },
     "execution_count": 17,
     "metadata": {},
     "output_type": "execute_result"
    }
   ],
   "source": [
    "df2.describe()"
   ]
  },
  {
   "cell_type": "code",
   "execution_count": 18,
   "id": "941be84a",
   "metadata": {},
   "outputs": [
    {
     "name": "stdout",
     "output_type": "stream",
     "text": [
      "(44466, 33)\n"
     ]
    },
    {
     "data": {
      "text/html": [
       "<div>\n",
       "<style scoped>\n",
       "    .dataframe tbody tr th:only-of-type {\n",
       "        vertical-align: middle;\n",
       "    }\n",
       "\n",
       "    .dataframe tbody tr th {\n",
       "        vertical-align: top;\n",
       "    }\n",
       "\n",
       "    .dataframe thead th {\n",
       "        text-align: right;\n",
       "    }\n",
       "</style>\n",
       "<table border=\"1\" class=\"dataframe\">\n",
       "  <thead>\n",
       "    <tr style=\"text-align: right;\">\n",
       "      <th></th>\n",
       "      <th>age</th>\n",
       "      <th>education</th>\n",
       "      <th>balance</th>\n",
       "      <th>day</th>\n",
       "      <th>duration</th>\n",
       "      <th>campaign</th>\n",
       "      <th>pdays</th>\n",
       "      <th>previous</th>\n",
       "      <th>y</th>\n",
       "      <th>job_admin.</th>\n",
       "      <th>...</th>\n",
       "      <th>housing_yes</th>\n",
       "      <th>loan_yes</th>\n",
       "      <th>contact_cellular</th>\n",
       "      <th>contact_telephone</th>\n",
       "      <th>month_Spring</th>\n",
       "      <th>month_Summer</th>\n",
       "      <th>month_Winter</th>\n",
       "      <th>poutcome_failure</th>\n",
       "      <th>poutcome_other</th>\n",
       "      <th>poutcome_success</th>\n",
       "    </tr>\n",
       "  </thead>\n",
       "  <tbody>\n",
       "    <tr>\n",
       "      <th>0</th>\n",
       "      <td>58</td>\n",
       "      <td>3</td>\n",
       "      <td>2143</td>\n",
       "      <td>5</td>\n",
       "      <td>261</td>\n",
       "      <td>1</td>\n",
       "      <td>-1</td>\n",
       "      <td>0</td>\n",
       "      <td>0</td>\n",
       "      <td>0</td>\n",
       "      <td>...</td>\n",
       "      <td>1</td>\n",
       "      <td>0</td>\n",
       "      <td>0</td>\n",
       "      <td>0</td>\n",
       "      <td>1</td>\n",
       "      <td>0</td>\n",
       "      <td>0</td>\n",
       "      <td>0</td>\n",
       "      <td>0</td>\n",
       "      <td>0</td>\n",
       "    </tr>\n",
       "    <tr>\n",
       "      <th>1</th>\n",
       "      <td>44</td>\n",
       "      <td>2</td>\n",
       "      <td>29</td>\n",
       "      <td>5</td>\n",
       "      <td>151</td>\n",
       "      <td>1</td>\n",
       "      <td>-1</td>\n",
       "      <td>0</td>\n",
       "      <td>0</td>\n",
       "      <td>0</td>\n",
       "      <td>...</td>\n",
       "      <td>1</td>\n",
       "      <td>0</td>\n",
       "      <td>0</td>\n",
       "      <td>0</td>\n",
       "      <td>1</td>\n",
       "      <td>0</td>\n",
       "      <td>0</td>\n",
       "      <td>0</td>\n",
       "      <td>0</td>\n",
       "      <td>0</td>\n",
       "    </tr>\n",
       "    <tr>\n",
       "      <th>2</th>\n",
       "      <td>33</td>\n",
       "      <td>2</td>\n",
       "      <td>2</td>\n",
       "      <td>5</td>\n",
       "      <td>76</td>\n",
       "      <td>1</td>\n",
       "      <td>-1</td>\n",
       "      <td>0</td>\n",
       "      <td>0</td>\n",
       "      <td>0</td>\n",
       "      <td>...</td>\n",
       "      <td>1</td>\n",
       "      <td>1</td>\n",
       "      <td>0</td>\n",
       "      <td>0</td>\n",
       "      <td>1</td>\n",
       "      <td>0</td>\n",
       "      <td>0</td>\n",
       "      <td>0</td>\n",
       "      <td>0</td>\n",
       "      <td>0</td>\n",
       "    </tr>\n",
       "    <tr>\n",
       "      <th>3</th>\n",
       "      <td>47</td>\n",
       "      <td>0</td>\n",
       "      <td>1506</td>\n",
       "      <td>5</td>\n",
       "      <td>92</td>\n",
       "      <td>1</td>\n",
       "      <td>-1</td>\n",
       "      <td>0</td>\n",
       "      <td>0</td>\n",
       "      <td>0</td>\n",
       "      <td>...</td>\n",
       "      <td>1</td>\n",
       "      <td>0</td>\n",
       "      <td>0</td>\n",
       "      <td>0</td>\n",
       "      <td>1</td>\n",
       "      <td>0</td>\n",
       "      <td>0</td>\n",
       "      <td>0</td>\n",
       "      <td>0</td>\n",
       "      <td>0</td>\n",
       "    </tr>\n",
       "    <tr>\n",
       "      <th>4</th>\n",
       "      <td>33</td>\n",
       "      <td>0</td>\n",
       "      <td>1</td>\n",
       "      <td>5</td>\n",
       "      <td>198</td>\n",
       "      <td>1</td>\n",
       "      <td>-1</td>\n",
       "      <td>0</td>\n",
       "      <td>0</td>\n",
       "      <td>0</td>\n",
       "      <td>...</td>\n",
       "      <td>0</td>\n",
       "      <td>0</td>\n",
       "      <td>0</td>\n",
       "      <td>0</td>\n",
       "      <td>1</td>\n",
       "      <td>0</td>\n",
       "      <td>0</td>\n",
       "      <td>0</td>\n",
       "      <td>0</td>\n",
       "      <td>0</td>\n",
       "    </tr>\n",
       "  </tbody>\n",
       "</table>\n",
       "<p>5 rows × 33 columns</p>\n",
       "</div>"
      ],
      "text/plain": [
       "   age  education  balance  day  duration  campaign  pdays  previous  y  \\\n",
       "0   58          3     2143    5       261         1     -1         0  0   \n",
       "1   44          2       29    5       151         1     -1         0  0   \n",
       "2   33          2        2    5        76         1     -1         0  0   \n",
       "3   47          0     1506    5        92         1     -1         0  0   \n",
       "4   33          0        1    5       198         1     -1         0  0   \n",
       "\n",
       "   job_admin.  ...  housing_yes  loan_yes  contact_cellular  \\\n",
       "0           0  ...            1         0                 0   \n",
       "1           0  ...            1         0                 0   \n",
       "2           0  ...            1         1                 0   \n",
       "3           0  ...            1         0                 0   \n",
       "4           0  ...            0         0                 0   \n",
       "\n",
       "   contact_telephone  month_Spring  month_Summer  month_Winter  \\\n",
       "0                  0             1             0             0   \n",
       "1                  0             1             0             0   \n",
       "2                  0             1             0             0   \n",
       "3                  0             1             0             0   \n",
       "4                  0             1             0             0   \n",
       "\n",
       "   poutcome_failure  poutcome_other  poutcome_success  \n",
       "0                 0               0                 0  \n",
       "1                 0               0                 0  \n",
       "2                 0               0                 0  \n",
       "3                 0               0                 0  \n",
       "4                 0               0                 0  \n",
       "\n",
       "[5 rows x 33 columns]"
      ]
     },
     "execution_count": 18,
     "metadata": {},
     "output_type": "execute_result"
    }
   ],
   "source": [
    "df = pd.get_dummies(df2,drop_first=True)\n",
    "print(df.shape)\n",
    "df.head()"
   ]
  },
  {
   "cell_type": "code",
   "execution_count": 19,
   "id": "f295a9da",
   "metadata": {},
   "outputs": [
    {
     "data": {
      "text/plain": [
       "Index(['age', 'job', 'marital', 'education', 'default', 'balance', 'housing',\n",
       "       'loan', 'contact', 'day', 'month', 'duration', 'campaign', 'pdays',\n",
       "       'previous', 'poutcome', 'y'],\n",
       "      dtype='object')"
      ]
     },
     "execution_count": 19,
     "metadata": {},
     "output_type": "execute_result"
    }
   ],
   "source": [
    "df2.columns"
   ]
  },
  {
   "cell_type": "code",
   "execution_count": 20,
   "id": "ecc83efd",
   "metadata": {},
   "outputs": [
    {
     "data": {
      "text/plain": [
       "0    39298\n",
       "1     5168\n",
       "Name: y, dtype: int64"
      ]
     },
     "execution_count": 20,
     "metadata": {},
     "output_type": "execute_result"
    }
   ],
   "source": [
    "df2['y'].value_counts()"
   ]
  },
  {
   "cell_type": "code",
   "execution_count": 21,
   "id": "b1fae375",
   "metadata": {},
   "outputs": [
    {
     "data": {
      "text/plain": [
       "0.13150796478192275"
      ]
     },
     "execution_count": 21,
     "metadata": {},
     "output_type": "execute_result"
    }
   ],
   "source": [
    "5168/39298"
   ]
  },
  {
   "cell_type": "code",
   "execution_count": 22,
   "id": "53cc0bf3",
   "metadata": {},
   "outputs": [
    {
     "data": {
      "text/plain": [
       "Text(0.5, 0, \"['No', 'Yes']\")"
      ]
     },
     "execution_count": 22,
     "metadata": {},
     "output_type": "execute_result"
    },
    {
     "data": {
      "image/png": "[encoded data removed]",
      "text/plain": [
       "<Figure size 640x480 with 1 Axes>"
      ]
     },
     "metadata": {},
     "output_type": "display_data"
    }
   ],
   "source": [
    "sns.countplot(x='y', data=df2)\n",
    "plt.xlabel(['No', 'Yes'])"
   ]
  },
  {
   "cell_type": "code",
   "execution_count": 23,
   "id": "78cc4b3f",
   "metadata": {},
   "outputs": [
    {
     "data": {
      "text/plain": [
       "age          0\n",
       "job          0\n",
       "marital      0\n",
       "education    0\n",
       "default      0\n",
       "balance      0\n",
       "housing      0\n",
       "loan         0\n",
       "contact      0\n",
       "day          0\n",
       "month        0\n",
       "duration     0\n",
       "campaign     0\n",
       "pdays        0\n",
       "previous     0\n",
       "poutcome     0\n",
       "y            0\n",
       "dtype: int64"
      ]
     },
     "execution_count": 23,
     "metadata": {},
     "output_type": "execute_result"
    }
   ],
   "source": [
    "df2.isna().sum()"
   ]
  },
  {
   "cell_type": "code",
   "execution_count": 24,
   "id": "684636b8",
   "metadata": {},
   "outputs": [
    {
     "name": "stdout",
     "output_type": "stream",
     "text": [
      "No NAs found\n"
     ]
    }
   ],
   "source": [
    "def plot_nas(df: pd.DataFrame):\n",
    "    if df.isnull().sum().sum() != 0:\n",
    "        na_df = (df2.isnull().sum() / len(df)) * 100      \n",
    "        na_df = na_df.drop(na_df[na_df == 0].index).sort_values(ascending=False)\n",
    "        missing_data = pd.DataFrame({'Unknown Ratio %' :na_df})\n",
    "        missing_data.plot(kind = \"barh\")\n",
    "        plt.show()\n",
    "    else:\n",
    "        print('No NAs found')\n",
    "plot_nas(df2)"
   ]
  },
  {
   "cell_type": "code",
   "execution_count": null,
   "id": "3ee3f214",
   "metadata": {},
   "outputs": [],
   "source": []
  },
  {
   "cell_type": "code",
   "execution_count": null,
   "id": "b7c54381",
   "metadata": {},
   "outputs": [],
   "source": []
  },
  {
   "cell_type": "code",
   "execution_count": 25,
   "id": "3a46c7c9",
   "metadata": {},
   "outputs": [],
   "source": [
    "# df.to_csv(\"bank.csv\", index=False)"
   ]
  },
  {
   "cell_type": "code",
   "execution_count": 26,
   "id": "7c2e77d7",
   "metadata": {},
   "outputs": [
    {
     "data": {
      "text/html": [
       "<div>\n",
       "<style scoped>\n",
       "    .dataframe tbody tr th:only-of-type {\n",
       "        vertical-align: middle;\n",
       "    }\n",
       "\n",
       "    .dataframe tbody tr th {\n",
       "        vertical-align: top;\n",
       "    }\n",
       "\n",
       "    .dataframe thead th {\n",
       "        text-align: right;\n",
       "    }\n",
       "</style>\n",
       "<table border=\"1\" class=\"dataframe\">\n",
       "  <thead>\n",
       "    <tr style=\"text-align: right;\">\n",
       "      <th></th>\n",
       "      <th>age</th>\n",
       "      <th>education</th>\n",
       "      <th>balance</th>\n",
       "      <th>day</th>\n",
       "      <th>duration</th>\n",
       "      <th>campaign</th>\n",
       "      <th>pdays</th>\n",
       "      <th>previous</th>\n",
       "      <th>job_admin.</th>\n",
       "      <th>job_blue-collar</th>\n",
       "      <th>...</th>\n",
       "      <th>housing_yes</th>\n",
       "      <th>loan_yes</th>\n",
       "      <th>contact_cellular</th>\n",
       "      <th>contact_telephone</th>\n",
       "      <th>month_Spring</th>\n",
       "      <th>month_Summer</th>\n",
       "      <th>month_Winter</th>\n",
       "      <th>poutcome_failure</th>\n",
       "      <th>poutcome_other</th>\n",
       "      <th>poutcome_success</th>\n",
       "    </tr>\n",
       "  </thead>\n",
       "  <tbody>\n",
       "    <tr>\n",
       "      <th>0</th>\n",
       "      <td>58</td>\n",
       "      <td>3</td>\n",
       "      <td>2143</td>\n",
       "      <td>5</td>\n",
       "      <td>261</td>\n",
       "      <td>1</td>\n",
       "      <td>-1</td>\n",
       "      <td>0</td>\n",
       "      <td>0</td>\n",
       "      <td>0</td>\n",
       "      <td>...</td>\n",
       "      <td>1</td>\n",
       "      <td>0</td>\n",
       "      <td>0</td>\n",
       "      <td>0</td>\n",
       "      <td>1</td>\n",
       "      <td>0</td>\n",
       "      <td>0</td>\n",
       "      <td>0</td>\n",
       "      <td>0</td>\n",
       "      <td>0</td>\n",
       "    </tr>\n",
       "    <tr>\n",
       "      <th>1</th>\n",
       "      <td>44</td>\n",
       "      <td>2</td>\n",
       "      <td>29</td>\n",
       "      <td>5</td>\n",
       "      <td>151</td>\n",
       "      <td>1</td>\n",
       "      <td>-1</td>\n",
       "      <td>0</td>\n",
       "      <td>0</td>\n",
       "      <td>0</td>\n",
       "      <td>...</td>\n",
       "      <td>1</td>\n",
       "      <td>0</td>\n",
       "      <td>0</td>\n",
       "      <td>0</td>\n",
       "      <td>1</td>\n",
       "      <td>0</td>\n",
       "      <td>0</td>\n",
       "      <td>0</td>\n",
       "      <td>0</td>\n",
       "      <td>0</td>\n",
       "    </tr>\n",
       "    <tr>\n",
       "      <th>2</th>\n",
       "      <td>33</td>\n",
       "      <td>2</td>\n",
       "      <td>2</td>\n",
       "      <td>5</td>\n",
       "      <td>76</td>\n",
       "      <td>1</td>\n",
       "      <td>-1</td>\n",
       "      <td>0</td>\n",
       "      <td>0</td>\n",
       "      <td>0</td>\n",
       "      <td>...</td>\n",
       "      <td>1</td>\n",
       "      <td>1</td>\n",
       "      <td>0</td>\n",
       "      <td>0</td>\n",
       "      <td>1</td>\n",
       "      <td>0</td>\n",
       "      <td>0</td>\n",
       "      <td>0</td>\n",
       "      <td>0</td>\n",
       "      <td>0</td>\n",
       "    </tr>\n",
       "    <tr>\n",
       "      <th>3</th>\n",
       "      <td>47</td>\n",
       "      <td>0</td>\n",
       "      <td>1506</td>\n",
       "      <td>5</td>\n",
       "      <td>92</td>\n",
       "      <td>1</td>\n",
       "      <td>-1</td>\n",
       "      <td>0</td>\n",
       "      <td>0</td>\n",
       "      <td>1</td>\n",
       "      <td>...</td>\n",
       "      <td>1</td>\n",
       "      <td>0</td>\n",
       "      <td>0</td>\n",
       "      <td>0</td>\n",
       "      <td>1</td>\n",
       "      <td>0</td>\n",
       "      <td>0</td>\n",
       "      <td>0</td>\n",
       "      <td>0</td>\n",
       "      <td>0</td>\n",
       "    </tr>\n",
       "    <tr>\n",
       "      <th>4</th>\n",
       "      <td>33</td>\n",
       "      <td>0</td>\n",
       "      <td>1</td>\n",
       "      <td>5</td>\n",
       "      <td>198</td>\n",
       "      <td>1</td>\n",
       "      <td>-1</td>\n",
       "      <td>0</td>\n",
       "      <td>0</td>\n",
       "      <td>0</td>\n",
       "      <td>...</td>\n",
       "      <td>0</td>\n",
       "      <td>0</td>\n",
       "      <td>0</td>\n",
       "      <td>0</td>\n",
       "      <td>1</td>\n",
       "      <td>0</td>\n",
       "      <td>0</td>\n",
       "      <td>0</td>\n",
       "      <td>0</td>\n",
       "      <td>0</td>\n",
       "    </tr>\n",
       "  </tbody>\n",
       "</table>\n",
       "<p>5 rows × 32 columns</p>\n",
       "</div>"
      ],
      "text/plain": [
       "   age  education  balance  day  duration  campaign  pdays  previous  \\\n",
       "0   58          3     2143    5       261         1     -1         0   \n",
       "1   44          2       29    5       151         1     -1         0   \n",
       "2   33          2        2    5        76         1     -1         0   \n",
       "3   47          0     1506    5        92         1     -1         0   \n",
       "4   33          0        1    5       198         1     -1         0   \n",
       "\n",
       "   job_admin.  job_blue-collar  ...  housing_yes  loan_yes  contact_cellular  \\\n",
       "0           0                0  ...            1         0                 0   \n",
       "1           0                0  ...            1         0                 0   \n",
       "2           0                0  ...            1         1                 0   \n",
       "3           0                1  ...            1         0                 0   \n",
       "4           0                0  ...            0         0                 0   \n",
       "\n",
       "   contact_telephone  month_Spring  month_Summer  month_Winter  \\\n",
       "0                  0             1             0             0   \n",
       "1                  0             1             0             0   \n",
       "2                  0             1             0             0   \n",
       "3                  0             1             0             0   \n",
       "4                  0             1             0             0   \n",
       "\n",
       "   poutcome_failure  poutcome_other  poutcome_success  \n",
       "0                 0               0                 0  \n",
       "1                 0               0                 0  \n",
       "2                 0               0                 0  \n",
       "3                 0               0                 0  \n",
       "4                 0               0                 0  \n",
       "\n",
       "[5 rows x 32 columns]"
      ]
     },
     "execution_count": 26,
     "metadata": {},
     "output_type": "execute_result"
    }
   ],
   "source": [
    "y = df[\"y\"]\n",
    "X = df.drop(\"y\", axis=1)\n",
    "X.head()"
   ]
  },
  {
   "cell_type": "code",
   "execution_count": 27,
   "id": "b3a374a3",
   "metadata": {},
   "outputs": [],
   "source": [
    "N_FOLD = 10\n",
    "STD = True\n",
    "N_TRIALS = 20\n",
    "SEED = 2\n",
    "\n",
    "SOLVER ='liblinear'\n",
    "if STD:\n",
    "    SOLVER = 'saga'"
   ]
  },
  {
   "cell_type": "code",
   "execution_count": 28,
   "id": "230bfd19",
   "metadata": {},
   "outputs": [
    {
     "data": {
      "text/plain": [
       "((31126, 32), (13340, 32))"
      ]
     },
     "execution_count": 28,
     "metadata": {},
     "output_type": "execute_result"
    }
   ],
   "source": [
    "X_train, X_test, y_train, y_test = train_test_split(X, y, test_size=0.3, random_state=SEED)\n",
    "\n",
    "X_train.shape, X_test.shape"
   ]
  },
  {
   "cell_type": "code",
   "execution_count": 29,
   "id": "016a2e2b",
   "metadata": {},
   "outputs": [
    {
     "data": {
      "text/plain": [
       "0    27539\n",
       "1    27539\n",
       "Name: y, dtype: int64"
      ]
     },
     "execution_count": 29,
     "metadata": {},
     "output_type": "execute_result"
    }
   ],
   "source": [
    "SAMPLING = \"SMOTE\"\n",
    "smote = SMOTE()\n",
    "X_train_hat, y_train_hat = smote.fit_resample(X_train, y_train)\n",
    "y_train_hat.value_counts()"
   ]
  },
  {
   "cell_type": "code",
   "execution_count": 30,
   "id": "42f9d030",
   "metadata": {},
   "outputs": [
    {
     "data": {
      "text/plain": [
       "((55078, 32), (13340, 32))"
      ]
     },
     "execution_count": 30,
     "metadata": {},
     "output_type": "execute_result"
    }
   ],
   "source": [
    "if STD:\n",
    "        scaler = StandardScaler()\n",
    "        scaler.fit(X_train_hat)\n",
    "        X_train_hat = scaler.transform(X_train_hat)\n",
    "        X_train_hat = pd.DataFrame(X_train_hat, columns=X.columns)\n",
    "        \n",
    "        X_test = scaler.transform(X_test)\n",
    "        X_test = pd.DataFrame(X_test, columns=X.columns)\n",
    "        \n",
    "X_train_hat.shape, X_test.shape"
   ]
  },
  {
   "cell_type": "code",
   "execution_count": 31,
   "id": "45f562fa",
   "metadata": {},
   "outputs": [],
   "source": [
    "def kf_confusion_matrix(model, X, y, fold, std=False, remove=None):\n",
    "    k_fold = KFold(fold, shuffle=True, random_state=SEED)\n",
    "\n",
    "    predicted_targets = np.array([])\n",
    "    actual_targets = np.array([])\n",
    "\n",
    "    for train_ix, test_ix in k_fold.split(X):\n",
    "        train_x, train_y= X.iloc[train_ix], y.iloc[train_ix]\n",
    "        test_x, test_y= X.iloc[test_ix], y.iloc[test_ix]\n",
    "        \n",
    "        smote = SMOTE()\n",
    "        train_x, train_y = smote.fit_resample(train_x, train_y)\n",
    "        \n",
    "        if std:\n",
    "            s = StandardScaler()\n",
    "            s.fit(train_x)\n",
    "            train_x = s.transform(train_x)\n",
    "            test_x = scaler.transform(test_x)\n",
    "            \n",
    "        # Fit the classifier\n",
    "        m = model.fit(train_x, train_y)\n",
    "\n",
    "        # Predict the labels of the test set samples\n",
    "        if remove:\n",
    "            predicted_labels = m.predict(train_x[remove])\n",
    "        else:    \n",
    "            predicted_labels = m.predict(test_x)\n",
    "\n",
    "\n",
    "        predicted_targets = np.append(predicted_targets, predicted_labels)\n",
    "        actual_targets = np.append(actual_targets, test_y)\n",
    "\n",
    "    return predicted_targets, actual_targets"
   ]
  },
  {
   "cell_type": "code",
   "execution_count": 32,
   "id": "3b5f1235",
   "metadata": {},
   "outputs": [
    {
     "name": "stdout",
     "output_type": "stream",
     "text": [
      "Test\n",
      "              precision    recall  f1-score   support\n",
      "\n",
      "           0    0.92473   0.94864   0.93653     11759\n",
      "           1    0.52702   0.42568   0.47096      1581\n",
      "\n",
      "    accuracy                        0.88666     13340\n",
      "   macro avg    0.72587   0.68716   0.70374     13340\n",
      "weighted avg    0.87759   0.88666   0.88135     13340\n",
      "\n",
      "------------------------------------------------------------\n",
      "Train\n",
      "              precision    recall  f1-score   support\n",
      "\n",
      "           0    0.90228   0.94855   0.92484     27539\n",
      "           1    0.94576   0.89727   0.92088     27539\n",
      "\n",
      "    accuracy                        0.92291     55078\n",
      "   macro avg    0.92402   0.92291   0.92286     55078\n",
      "weighted avg    0.92402   0.92291   0.92286     55078\n",
      "\n"
     ]
    }
   ],
   "source": [
    "logr = LogisticRegression(penalty='none', n_jobs=-1, max_iter=1000)\n",
    "logr.fit(X_train_hat, y_train_hat)\n",
    "\n",
    "print('Test')\n",
    "y_pred = logr.predict(X_test)\n",
    "print(classification_report(y_test, y_pred, digits=5))\n",
    "report = classification_report(y_test, y_pred, digits=8, output_dict=True)\n",
    "\n",
    "print(\"-\"*60)\n",
    "print(\"Train\")\n",
    "y_pred = logr.predict(X_train_hat)\n",
    "print(classification_report(y_train_hat, y_pred, digits=5))\n",
    "report = classification_report(y_train_hat, y_pred, digits=8, output_dict=True)\n",
    "\n"
   ]
  },
  {
   "cell_type": "code",
   "execution_count": 34,
   "id": "2b2035d5",
   "metadata": {},
   "outputs": [],
   "source": [
    "c = np.arange(0.01, 0.3, 0.01)\n",
    "scores_train = []\n",
    "scores_test = []\n",
    "f1_train = []\n",
    "f1_test = []\n",
    "n = 0\n",
    "for a in c:\n",
    "    ridge = LogisticRegression(penalty='l2',C=a, solver=SOLVER, random_state=SEED, n_jobs=-1)\n",
    "    ridge.fit(X_train_hat, y_train_hat)\n",
    "    \n",
    "    y_pred = ridge.predict(X_test)\n",
    "    report = classification_report(y_test, y_pred, digits=8, output_dict=True)\n",
    "    s_test = report[\"accuracy\"]\n",
    "    f_test = report[\"1\"][\"f1-score\"]\n",
    "    \n",
    "    y_pred = ridge.predict(X_train_hat)\n",
    "    report = classification_report(y_train_hat, y_pred, digits=8, output_dict=True)\n",
    "    s_train = report[\"accuracy\"]\n",
    "    f_train = report[\"1\"][\"f1-score\"]\n",
    "\n",
    "    scores_test.append(s_test)\n",
    "    f1_test.append(f_test)\n",
    "    \n",
    "    scores_train.append(s_train)\n",
    "    f1_train.append(f_train)\n",
    "    n+=1"
   ]
  },
  {
   "cell_type": "code",
   "execution_count": 35,
   "id": "7b9dfd06",
   "metadata": {},
   "outputs": [
    {
     "data": {
      "image/png": "[encoded data removed]",
      "text/plain": [
       "<Figure size 640x480 with 2 Axes>"
      ]
     },
     "metadata": {},
     "output_type": "display_data"
    }
   ],
   "source": [
    "fig, (ax1, ax2) = plt.subplots(2, 1, sharex=True)\n",
    "\n",
    "ax1.plot(c, scores_train, label=\"Train\", color='orange')\n",
    "ax2.plot(c, scores_test, label=\"Test\")\n",
    "\n",
    "ax1.spines.bottom.set_visible(False)\n",
    "ax2.spines.top.set_visible(False)\n",
    "ax1.xaxis.tick_top()\n",
    "ax1.tick_params(labeltop=False)\n",
    "ax2.xaxis.tick_bottom()\n",
    "\n",
    "ax1.grid(True)\n",
    "ax2.grid(True)\n",
    "\n",
    "ax1.legend()\n",
    "ax2.legend()\n",
    "plt.show()"
   ]
  },
  {
   "cell_type": "code",
   "execution_count": 36,
   "id": "a451afdd",
   "metadata": {},
   "outputs": [
    {
     "data": {
      "image/png": "[encoded data removed]",
      "text/plain": [
       "<Figure size 640x480 with 1 Axes>"
      ]
     },
     "metadata": {},
     "output_type": "display_data"
    }
   ],
   "source": [
    "# sns.lineplot(x=c, y=f1_train, label=\"Cross_val\", color=\"red\")\n",
    "sns.lineplot(x=c, y=f1_test, label=\"Test\")\n",
    "plt.grid(True)\n",
    "plt.show()"
   ]
  },
  {
   "cell_type": "code",
   "execution_count": 37,
   "id": "0551a020",
   "metadata": {},
   "outputs": [
    {
     "name": "stderr",
     "output_type": "stream",
     "text": [
      "\u001b[32m[I 2022-11-05 21:18:36,604]\u001b[0m A new study created in memory with name: no-name-27e87846-7cce-4828-abf0-3a9360fa2331\u001b[0m\n",
      "\u001b[32m[I 2022-11-05 21:18:48,647]\u001b[0m Trial 0 finished with value: 0.46284043699030625 and parameters: {'alpha': 0.059614257356018496}. Best is trial 0 with value: 0.46284043699030625.\u001b[0m\n",
      "\u001b[32m[I 2022-11-05 21:19:02,181]\u001b[0m Trial 1 finished with value: 0.4632194521391197 and parameters: {'alpha': 0.19345581968959155}. Best is trial 1 with value: 0.4632194521391197.\u001b[0m\n",
      "\u001b[32m[I 2022-11-05 21:19:13,887]\u001b[0m Trial 2 finished with value: 0.46395080707148345 and parameters: {'alpha': 0.047022054252466514}. Best is trial 2 with value: 0.46395080707148345.\u001b[0m\n",
      "\u001b[32m[I 2022-11-05 21:19:27,150]\u001b[0m Trial 3 finished with value: 0.4634296250768285 and parameters: {'alpha': 0.157663931663215}. Best is trial 2 with value: 0.46395080707148345.\u001b[0m\n",
      "\u001b[32m[I 2022-11-05 21:19:41,551]\u001b[0m Trial 4 finished with value: 0.4629089233604669 and parameters: {'alpha': 0.2216123499875782}. Best is trial 2 with value: 0.46395080707148345.\u001b[0m\n",
      "\u001b[32m[I 2022-11-05 21:19:54,861]\u001b[0m Trial 5 finished with value: 0.46395080707148345 and parameters: {'alpha': 0.13287849434617702}. Best is trial 2 with value: 0.46395080707148345.\u001b[0m\n",
      "\u001b[32m[I 2022-11-05 21:20:08,473]\u001b[0m Trial 6 finished with value: 0.4633584267936703 and parameters: {'alpha': 0.2063444283871508}. Best is trial 2 with value: 0.46395080707148345.\u001b[0m\n",
      "\u001b[32m[I 2022-11-05 21:20:20,859]\u001b[0m Trial 7 finished with value: 0.4644229291532196 and parameters: {'alpha': 0.07072120795642393}. Best is trial 7 with value: 0.4644229291532196.\u001b[0m\n",
      "\u001b[32m[I 2022-11-05 21:20:34,362]\u001b[0m Trial 8 finished with value: 0.4655516341875096 and parameters: {'alpha': 0.16107775546838438}. Best is trial 8 with value: 0.4655516341875096.\u001b[0m\n",
      "\u001b[32m[I 2022-11-05 21:20:47,365]\u001b[0m Trial 9 finished with value: 0.46326123638594874 and parameters: {'alpha': 0.10615353439620766}. Best is trial 8 with value: 0.4655516341875096.\u001b[0m\n",
      "\u001b[32m[I 2022-11-05 21:21:01,238]\u001b[0m Trial 10 finished with value: 0.4644666155026861 and parameters: {'alpha': 0.2962074949994463}. Best is trial 8 with value: 0.4655516341875096.\u001b[0m\n",
      "\u001b[32m[I 2022-11-05 21:21:15,060]\u001b[0m Trial 11 finished with value: 0.46429665951578303 and parameters: {'alpha': 0.29760795973186444}. Best is trial 8 with value: 0.4655516341875096.\u001b[0m\n",
      "\u001b[32m[I 2022-11-05 21:21:28,923]\u001b[0m Trial 12 finished with value: 0.4642255247433737 and parameters: {'alpha': 0.29168937483173324}. Best is trial 8 with value: 0.4655516341875096.\u001b[0m\n",
      "\u001b[32m[I 2022-11-05 21:21:34,621]\u001b[0m Trial 13 finished with value: 0.4618944770132675 and parameters: {'alpha': 0.0031736506268490172}. Best is trial 8 with value: 0.4655516341875096.\u001b[0m\n",
      "\u001b[32m[I 2022-11-05 21:21:48,322]\u001b[0m Trial 14 finished with value: 0.4645814167433303 and parameters: {'alpha': 0.25090251503523026}. Best is trial 8 with value: 0.4655516341875096.\u001b[0m\n",
      "\u001b[32m[I 2022-11-05 21:22:02,092]\u001b[0m Trial 15 finished with value: 0.4645814167433303 and parameters: {'alpha': 0.25332525735600886}. Best is trial 8 with value: 0.4655516341875096.\u001b[0m\n",
      "\u001b[32m[I 2022-11-05 21:22:15,632]\u001b[0m Trial 16 finished with value: 0.4643021649009673 and parameters: {'alpha': 0.1663101155838985}. Best is trial 8 with value: 0.4655516341875096.\u001b[0m\n",
      "\u001b[32m[I 2022-11-05 21:22:29,371]\u001b[0m Trial 17 finished with value: 0.46269573226895916 and parameters: {'alpha': 0.24600020185421773}. Best is trial 8 with value: 0.4655516341875096.\u001b[0m\n",
      "\u001b[32m[I 2022-11-05 21:22:42,556]\u001b[0m Trial 18 finished with value: 0.4643734643734644 and parameters: {'alpha': 0.11288855520901628}. Best is trial 8 with value: 0.4655516341875096.\u001b[0m\n",
      "\u001b[32m[I 2022-11-05 21:22:56,254]\u001b[0m Trial 19 finished with value: 0.46274630541871925 and parameters: {'alpha': 0.2523918939807468}. Best is trial 8 with value: 0.4655516341875096.\u001b[0m\n"
     ]
    }
   ],
   "source": [
    "def ridge_objective(trial):\n",
    "    #Parameters to tune\n",
    "    _alpha = trial.suggest_float(\"alpha\",0.001, 0.3)\n",
    "    \n",
    "    #model\n",
    "    ridge = LogisticRegression(penalty='l2', C=_alpha, max_iter=1000,solver=SOLVER, \n",
    "                               random_state=SEED, n_jobs=-1)\n",
    "    y_pred, y_true = kf_confusion_matrix(ridge, X_train, y_train, N_FOLD, std=STD)\n",
    "    \n",
    "    #what to optimize \n",
    "    report = classification_report(y_true, y_pred, digits=8, output_dict=True)\n",
    "    scores = report[\"1.0\"][\"f1-score\"]\n",
    "    return scores\n",
    "\n",
    "study = op.create_study(direction=\"maximize\")\n",
    "study.optimize(ridge_objective, n_trials=N_TRIALS)\n",
    "best_params = study.best_params\n",
    "best_score = study.best_value"
   ]
  },
  {
   "cell_type": "code",
   "execution_count": 38,
   "id": "def12d75",
   "metadata": {},
   "outputs": [
    {
     "name": "stdout",
     "output_type": "stream",
     "text": [
      "{'alpha': 0.16107775546838438}\n",
      "Test\n",
      "              precision    recall  f1-score   support\n",
      "\n",
      "           0    0.92472   0.94855   0.93648     11759\n",
      "           1    0.52660   0.42568   0.47079      1581\n",
      "\n",
      "    accuracy                        0.88658     13340\n",
      "   macro avg    0.72566   0.68711   0.70364     13340\n",
      "weighted avg    0.87754   0.88658   0.88129     13340\n",
      "\n",
      "------------------------------------------------------------\n",
      "Train\n",
      "              precision    recall  f1-score   support\n",
      "\n",
      "           0    0.90238   0.94858   0.92490     27539\n",
      "           1    0.94581   0.89738   0.92096     27539\n",
      "\n",
      "    accuracy                        0.92298     55078\n",
      "   macro avg    0.92409   0.92298   0.92293     55078\n",
      "weighted avg    0.92409   0.92298   0.92293     55078\n",
      "\n"
     ]
    }
   ],
   "source": [
    "print(best_params)\n",
    "print('Test')\n",
    "ridge = LogisticRegression(penalty='l2', C=best_params['alpha'],solver=SOLVER, random_state=SEED)\n",
    "ridge.fit(X_train_hat, y_train_hat)\n",
    "y_pred = ridge.predict(X_test)\n",
    "print(classification_report(y_test, y_pred, digits=5))\n",
    "\n",
    "print('-'*60)\n",
    "\n",
    "print('Train')\n",
    "y_pred = ridge.predict(X_train_hat)\n",
    "print(classification_report(y_train_hat, y_pred, digits=5))\n",
    "\n"
   ]
  },
  {
   "cell_type": "code",
   "execution_count": 39,
   "id": "b13b2d3d",
   "metadata": {},
   "outputs": [],
   "source": [
    "c = np.arange(0.0001, 0.03, 0.0005)\n",
    "scores_train = []\n",
    "scores_test = []\n",
    "f1_train = []\n",
    "f1_test = []\n",
    "n = 0\n",
    "for a in c:\n",
    "    lasso = LogisticRegression(penalty='l1',C=a, solver=SOLVER, random_state=SEED, n_jobs=-1)\n",
    "    lasso.fit(X_train_hat, y_train_hat)\n",
    "    \n",
    "    y_pred = lasso.predict(X_test)\n",
    "    report = classification_report(y_test, y_pred, digits=8, output_dict=True)\n",
    "    s_test = report[\"accuracy\"]\n",
    "    f_test = report[\"1\"][\"f1-score\"]\n",
    "    \n",
    "    y_pred = lasso.predict(X_train_hat)\n",
    "    report = classification_report(y_train_hat, y_pred, digits=8, output_dict=True)\n",
    "    s_train = report[\"accuracy\"]\n",
    "    f_train = report[\"1\"][\"f1-score\"]\n",
    "\n",
    "    scores_test.append(s_test)\n",
    "    f1_test.append(f_test)\n",
    "    \n",
    "    scores_train.append(s_train)\n",
    "    f1_train.append(f_train)\n",
    "    n+=1"
   ]
  },
  {
   "cell_type": "code",
   "execution_count": 40,
   "id": "ef3d6fde",
   "metadata": {},
   "outputs": [
    {
     "data": {
      "image/png": "[encoded data removed]",
      "text/plain": [
       "<Figure size 640x480 with 2 Axes>"
      ]
     },
     "metadata": {},
     "output_type": "display_data"
    }
   ],
   "source": [
    "fig, (ax1, ax2) = plt.subplots(2, 1, sharex=True)\n",
    "\n",
    "ax1.plot(c, scores_train, label=\"Train\")\n",
    "ax2.plot(c, scores_test, label=\"Test\", color=\"orange\")\n",
    "\n",
    "ax1.spines.bottom.set_visible(False)\n",
    "ax2.spines.top.set_visible(False)\n",
    "ax1.xaxis.tick_top()\n",
    "ax1.tick_params(labeltop=False) \n",
    "ax2.xaxis.tick_bottom()\n",
    "\n",
    "ax1.grid(True)\n",
    "ax2.grid(True)\n",
    "\n",
    "fig.legend()\n",
    "plt.show()"
   ]
  },
  {
   "cell_type": "code",
   "execution_count": 41,
   "id": "61021c4a",
   "metadata": {},
   "outputs": [
    {
     "data": {
      "image/png": "[encoded data removed]",
      "text/plain": [
       "<Figure size 640x480 with 1 Axes>"
      ]
     },
     "metadata": {},
     "output_type": "display_data"
    }
   ],
   "source": [
    "sns.lineplot(x=c, y=f1_test, label=\"Test\")\n",
    "plt.grid(True)\n",
    "plt.show()"
   ]
  },
  {
   "cell_type": "code",
   "execution_count": 42,
   "id": "974d0307",
   "metadata": {},
   "outputs": [
    {
     "name": "stderr",
     "output_type": "stream",
     "text": [
      "\u001b[32m[I 2022-11-05 21:24:04,477]\u001b[0m A new study created in memory with name: no-name-fe6ac21e-aee0-4e2d-9673-cb8a962244fd\u001b[0m\n",
      "\u001b[32m[I 2022-11-05 21:24:16,756]\u001b[0m Trial 0 finished with value: 0.46631805598277454 and parameters: {'alpha': 0.020305154785953353}. Best is trial 0 with value: 0.46631805598277454.\u001b[0m\n",
      "\u001b[32m[I 2022-11-05 21:24:25,451]\u001b[0m Trial 1 finished with value: 0.46974107553240385 and parameters: {'alpha': 0.006907224642895474}. Best is trial 1 with value: 0.46974107553240385.\u001b[0m\n",
      "\u001b[32m[I 2022-11-05 21:24:37,300]\u001b[0m Trial 2 finished with value: 0.46588813767670556 and parameters: {'alpha': 0.017765370428704866}. Best is trial 1 with value: 0.46974107553240385.\u001b[0m\n",
      "\u001b[32m[I 2022-11-05 21:24:50,836]\u001b[0m Trial 3 finished with value: 0.4646651270207852 and parameters: {'alpha': 0.029858372295546342}. Best is trial 1 with value: 0.46974107553240385.\u001b[0m\n",
      "\u001b[32m[I 2022-11-05 21:24:59,095]\u001b[0m Trial 4 finished with value: 0.47013782542113325 and parameters: {'alpha': 0.006012164474685916}. Best is trial 4 with value: 0.47013782542113325.\u001b[0m\n",
      "\u001b[32m[I 2022-11-05 21:25:09,014]\u001b[0m Trial 5 finished with value: 0.46708608255332207 and parameters: {'alpha': 0.010170301356163251}. Best is trial 4 with value: 0.47013782542113325.\u001b[0m\n",
      "\u001b[32m[I 2022-11-05 21:25:19,265]\u001b[0m Trial 6 finished with value: 0.4667896678966789 and parameters: {'alpha': 0.011166522719247146}. Best is trial 4 with value: 0.47013782542113325.\u001b[0m\n",
      "\u001b[32m[I 2022-11-05 21:25:32,439]\u001b[0m Trial 7 finished with value: 0.46583755565791496 and parameters: {'alpha': 0.027936711015898202}. Best is trial 4 with value: 0.47013782542113325.\u001b[0m\n",
      "\u001b[32m[I 2022-11-05 21:25:41,610]\u001b[0m Trial 8 finished with value: 0.4702453987730061 and parameters: {'alpha': 0.00817399919384673}. Best is trial 8 with value: 0.4702453987730061.\u001b[0m\n",
      "\u001b[32m[I 2022-11-05 21:25:50,537]\u001b[0m Trial 9 finished with value: 0.46818948336654914 and parameters: {'alpha': 0.007408713565072147}. Best is trial 8 with value: 0.4702453987730061.\u001b[0m\n",
      "\u001b[32m[I 2022-11-05 21:25:53,804]\u001b[0m Trial 10 finished with value: 0.4500296853354443 and parameters: {'alpha': 0.00011566320544271168}. Best is trial 8 with value: 0.4702453987730061.\u001b[0m\n",
      "\u001b[32m[I 2022-11-05 21:25:58,954]\u001b[0m Trial 11 finished with value: 0.47963800904977383 and parameters: {'alpha': 0.0015276807580644992}. Best is trial 11 with value: 0.47963800904977383.\u001b[0m\n",
      "\u001b[32m[I 2022-11-05 21:26:06,367]\u001b[0m Trial 12 finished with value: 0.46999541914796156 and parameters: {'alpha': 0.004387991535836675}. Best is trial 11 with value: 0.47963800904977383.\u001b[0m\n",
      "\u001b[32m[I 2022-11-05 21:26:10,875]\u001b[0m Trial 13 finished with value: 0.48422555317630267 and parameters: {'alpha': 0.0011946537378117825}. Best is trial 13 with value: 0.48422555317630267.\u001b[0m\n",
      "\u001b[32m[I 2022-11-05 21:26:16,123]\u001b[0m Trial 14 finished with value: 0.4785347985347985 and parameters: {'alpha': 0.001580426904405368}. Best is trial 13 with value: 0.48422555317630267.\u001b[0m\n",
      "\u001b[32m[I 2022-11-05 21:26:27,214]\u001b[0m Trial 15 finished with value: 0.46553846153846157 and parameters: {'alpha': 0.0141327541891723}. Best is trial 13 with value: 0.48422555317630267.\u001b[0m\n",
      "\u001b[32m[I 2022-11-05 21:26:33,837]\u001b[0m Trial 16 finished with value: 0.4714285714285714 and parameters: {'alpha': 0.003165469933763968}. Best is trial 13 with value: 0.48422555317630267.\u001b[0m\n",
      "\u001b[32m[I 2022-11-05 21:26:46,626]\u001b[0m Trial 17 finished with value: 0.46525215252152524 and parameters: {'alpha': 0.024294263763396867}. Best is trial 13 with value: 0.48422555317630267.\u001b[0m\n",
      "\u001b[32m[I 2022-11-05 21:26:57,502]\u001b[0m Trial 18 finished with value: 0.46653331281735655 and parameters: {'alpha': 0.01347218655661584}. Best is trial 13 with value: 0.48422555317630267.\u001b[0m\n",
      "\u001b[32m[I 2022-11-05 21:27:04,259]\u001b[0m Trial 19 finished with value: 0.4703563305534496 and parameters: {'alpha': 0.0032081283064236948}. Best is trial 13 with value: 0.48422555317630267.\u001b[0m\n"
     ]
    }
   ],
   "source": [
    "def lasso_objective(trial):\n",
    "    #Parameters to tune\n",
    "    _alpha = trial.suggest_float(\"alpha\",0.0001, 0.03)\n",
    "    \n",
    "    #model\n",
    "    lasso = LogisticRegression(penalty='l1', C=_alpha, max_iter=1000,solver=SOLVER, \n",
    "                               random_state=SEED, n_jobs=-1)\n",
    "    y_pred, y_true = kf_confusion_matrix(lasso, X_train, y_train, N_FOLD, std=STD)\n",
    "    \n",
    "    #what to optimize \n",
    "    report = classification_report(y_true, y_pred, digits=8, output_dict=True)\n",
    "    scores = report[\"1.0\"][\"f1-score\"]\n",
    "    return scores\n",
    "\n",
    "study = op.create_study(direction=\"maximize\")\n",
    "study.optimize(lasso_objective, n_trials=N_TRIALS)\n",
    "best_params = study.best_params\n",
    "best_score = study.best_value"
   ]
  },
  {
   "cell_type": "code",
   "execution_count": 43,
   "id": "db147f59",
   "metadata": {},
   "outputs": [
    {
     "name": "stdout",
     "output_type": "stream",
     "text": [
      "{'alpha': 0.0011946537378117825}\n",
      "Test\n",
      "              precision    recall  f1-score   support\n",
      "\n",
      "           0    0.93091   0.93962   0.93525     11759\n",
      "           1    0.51734   0.48134   0.49869      1581\n",
      "\n",
      "    accuracy                        0.88531     13340\n",
      "   macro avg    0.72412   0.71048   0.71697     13340\n",
      "weighted avg    0.88190   0.88531   0.88351     13340\n",
      "\n",
      "------------------------------------------------------------\n",
      "Train\n",
      "              precision    recall  f1-score   support\n",
      "\n",
      "           0    0.90182   0.93954   0.92029     27539\n",
      "           1    0.93690   0.89771   0.91689     27539\n",
      "\n",
      "    accuracy                        0.91862     55078\n",
      "   macro avg    0.91936   0.91862   0.91859     55078\n",
      "weighted avg    0.91936   0.91862   0.91859     55078\n",
      "\n"
     ]
    }
   ],
   "source": [
    "print(best_params)\n",
    "print('Test')\n",
    "ridge = LogisticRegression(penalty='l1', C=best_params['alpha'],solver=SOLVER, random_state=SEED)\n",
    "ridge.fit(X_train_hat, y_train_hat)\n",
    "y_pred = ridge.predict(X_test)\n",
    "print(classification_report(y_test, y_pred, digits=5))\n",
    "\n",
    "print('-'*60)\n",
    "print('Train')\n",
    "y_pred = ridge.predict(X_train_hat)\n",
    "print(classification_report(y_train_hat, y_pred, digits=5))\n",
    "report = classification_report(y_train_hat, y_pred, digits=8, output_dict=True)\n",
    "\n"
   ]
  },
  {
   "cell_type": "code",
   "execution_count": 44,
   "id": "7cc83cc6",
   "metadata": {},
   "outputs": [
    {
     "data": {
      "image/png": "[encoded data removed]",
      "text/plain": [
       "<Figure size 640x480 with 1 Axes>"
      ]
     },
     "metadata": {},
     "output_type": "display_data"
    }
   ],
   "source": [
    "plt.figure(0).clf()\n",
    "ns_probs = [0 for _ in range(len(y_test))]\n",
    "ns_auc = roc_auc_score(y_test, ns_probs)\n",
    "ns_fpr, ns_tpr, _ = roc_curve(y_test, ns_probs)\n",
    "plt.plot(ns_fpr, ns_tpr, linestyle='--')\n",
    "\n",
    "\n",
    "lr = LogisticRegression(penalty='none', random_state=SEED)\n",
    "lr.fit(X_train_hat, y_train_hat)\n",
    "y_pred = lr.predict_proba(X_test)[:, 1]\n",
    "fpr, tpr, _ = roc_curve(y_test, y_pred)\n",
    "auc = round(roc_auc_score(y_test, y_pred), 4)\n",
    "plt.plot(fpr,tpr,label=\"Logistic Regression, AUC=\"+str(auc))\n",
    "\n",
    "ridge = LogisticRegression(penalty='l2',C=0.24456998352859904, solver=SOLVER, random_state=SEED)\n",
    "ridge.fit(X_train_hat, y_train_hat)\n",
    "y_pred = ridge.predict_proba(X_test)[:, 1]\n",
    "fpr, tpr, _ = roc_curve(y_test, y_pred)\n",
    "auc = round(roc_auc_score(y_test, y_pred), 4)\n",
    "plt.plot(fpr,tpr,label=\"Ridge, AUC=\"+str(auc))\n",
    "\n",
    "lasso = LogisticRegression(penalty='l1',C=0.001003907311714561, solver=SOLVER, random_state=SEED)\n",
    "lasso.fit(X_train_hat, y_train_hat)\n",
    "y_pred = lasso.predict_proba(X_test)[:, 1]\n",
    "fpr, tpr, _ = roc_curve(y_test, y_pred)\n",
    "auc = round(roc_auc_score(y_test, y_pred), 4)\n",
    "plt.plot(fpr,tpr,label=\"Lasso, AUC=\"+str(auc))\n",
    "\n",
    "plt.legend()\n",
    "plt.show()"
   ]
  },
  {
   "cell_type": "code",
   "execution_count": null,
   "id": "af6127d0",
   "metadata": {},
   "outputs": [],
   "source": []
  },
  {
   "cell_type": "code",
   "execution_count": null,
   "id": "68cb98fc",
   "metadata": {},
   "outputs": [],
   "source": []
  },
  {
   "cell_type": "code",
   "execution_count": null,
   "id": "496df598",
   "metadata": {},
   "outputs": [],
   "source": []
  }
 ],
 "metadata": {
  "kernelspec": {
   "display_name": "Python 3.9 (tensorflow)",
   "language": "python",
   "name": "tensorflow"
  },
  "language_info": {
   "codemirror_mode": {
    "name": "ipython",
    "version": 3
   },
   "file_extension": ".py",
   "mimetype": "text/x-python",
   "name": "python",
   "nbconvert_exporter": "python",
   "pygments_lexer": "ipython3",
   "version": "3.9.13"
  }
 },
 "nbformat": 4,
 "nbformat_minor": 5
}
